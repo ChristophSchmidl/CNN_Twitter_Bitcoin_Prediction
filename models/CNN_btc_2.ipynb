{
  "nbformat": 4,
  "nbformat_minor": 0,
  "metadata": {
    "colab": {
      "name": "CNN_btc_2.ipynb",
      "version": "0.3.2",
      "provenance": [],
      "collapsed_sections": [
        "fYM9pGY3PNEM",
        "Q3yq8bytPUa4",
        "LHfXJv19PUbK",
        "R8ZUFjzAPUba",
        "Ci9PWyjRPUbW",
        "j_Sg1xu6LxqK",
        "C-QvA-Tif6Ea",
        "CV-R2o0ox4fg",
        "7qHZlLPAiFdL",
        "VNimcQC82Oog"
      ],
      "include_colab_link": true
    },
    "kernelspec": {
      "name": "python3",
      "display_name": "Python 3"
    },
    "accelerator": "GPU"
  },
  "cells": [
    {
      "cell_type": "markdown",
      "metadata": {
        "id": "view-in-github",
        "colab_type": "text"
      },
      "source": [
        "<a href=\"https://colab.research.google.com/github/mickvanhulst/twitter_bitcoin_analysis/blob/master/models/CNN_btc_2.ipynb\" target=\"_parent\"><img src=\"https://colab.research.google.com/assets/colab-badge.svg\" alt=\"Open In Colab\"/></a>"
      ]
    },
    {
      "metadata": {
        "id": "SBj8vZYdPqLi",
        "colab_type": "text"
      },
      "cell_type": "markdown",
      "source": [
        "# Install PyTorch"
      ]
    },
    {
      "metadata": {
        "id": "QCCVsRY6PpRK",
        "colab_type": "code",
        "outputId": "752cdbcf-0ee2-4f3a-d329-c41e717abd33",
        "colab": {
          "base_uri": "https://localhost:8080/",
          "height": 881
        }
      },
      "cell_type": "code",
      "source": [
        "from os import path\n",
        "from wheel.pep425tags import get_abbr_impl, get_impl_ver, get_abi_tag\n",
        "platform = '{}{}-{}'.format(get_abbr_impl(), get_impl_ver(), get_abi_tag())\n",
        "\n",
        "accelerator = 'cu80' if path.exists('/opt/bin/nvidia-smi') else 'cpu'\n",
        "\n",
        "!pip install -q http://download.pytorch.org/whl/{accelerator}/torch-0.4.0-{platform}-linux_x86_64.whl torchvision\n",
        "import torch\n",
        "print(torch.__version__)\n",
        "print(torch.cuda.is_available())\n",
        "\n",
        "!pip install git+git://github.com/mickvanhulst/livelossplot.git --upgrade"
      ],
      "execution_count": 1,
      "outputs": [
        {
          "output_type": "stream",
          "text": [
            "tcmalloc: large alloc 1073750016 bytes == 0x5b2f8000 @  0x7eff15d412a4 0x591a07 0x5b5d56 0x502e9a 0x506859 0x502209 0x502f3d 0x506859 0x504c28 0x502540 0x502f3d 0x506859 0x504c28 0x502540 0x502f3d 0x506859 0x504c28 0x502540 0x502f3d 0x507641 0x502209 0x502f3d 0x506859 0x504c28 0x502540 0x502f3d 0x507641 0x504c28 0x502540 0x502f3d 0x507641\n",
            "0.4.0\n",
            "True\n",
            "Collecting git+git://github.com/mickvanhulst/livelossplot.git\n",
            "  Cloning git://github.com/mickvanhulst/livelossplot.git to /tmp/pip-req-build-xhy7yijq\n",
            "Requirement already satisfied, skipping upgrade: matplotlib in /usr/local/lib/python3.6/dist-packages (from livelossplot==0.2.2) (2.1.2)\n",
            "Requirement already satisfied, skipping upgrade: notebook in /usr/local/lib/python3.6/dist-packages (from livelossplot==0.2.2) (5.2.2)\n",
            "Requirement already satisfied, skipping upgrade: cycler>=0.10 in /usr/local/lib/python3.6/dist-packages (from matplotlib->livelossplot==0.2.2) (0.10.0)\n",
            "Requirement already satisfied, skipping upgrade: six>=1.10 in /usr/local/lib/python3.6/dist-packages (from matplotlib->livelossplot==0.2.2) (1.11.0)\n",
            "Requirement already satisfied, skipping upgrade: pytz in /usr/local/lib/python3.6/dist-packages (from matplotlib->livelossplot==0.2.2) (2018.7)\n",
            "Requirement already satisfied, skipping upgrade: python-dateutil>=2.1 in /usr/local/lib/python3.6/dist-packages (from matplotlib->livelossplot==0.2.2) (2.5.3)\n",
            "Requirement already satisfied, skipping upgrade: pyparsing!=2.0.4,!=2.1.2,!=2.1.6,>=2.0.1 in /usr/local/lib/python3.6/dist-packages (from matplotlib->livelossplot==0.2.2) (2.3.0)\n",
            "Requirement already satisfied, skipping upgrade: numpy>=1.7.1 in /usr/local/lib/python3.6/dist-packages (from matplotlib->livelossplot==0.2.2) (1.14.6)\n",
            "Requirement already satisfied, skipping upgrade: ipython-genutils in /usr/local/lib/python3.6/dist-packages (from notebook->livelossplot==0.2.2) (0.2.0)\n",
            "Requirement already satisfied, skipping upgrade: jupyter-core in /usr/local/lib/python3.6/dist-packages (from notebook->livelossplot==0.2.2) (4.4.0)\n",
            "Requirement already satisfied, skipping upgrade: nbconvert in /usr/local/lib/python3.6/dist-packages (from notebook->livelossplot==0.2.2) (5.4.0)\n",
            "Requirement already satisfied, skipping upgrade: jinja2 in /usr/local/lib/python3.6/dist-packages (from notebook->livelossplot==0.2.2) (2.10)\n",
            "Requirement already satisfied, skipping upgrade: traitlets>=4.2.1 in /usr/local/lib/python3.6/dist-packages (from notebook->livelossplot==0.2.2) (4.3.2)\n",
            "Requirement already satisfied, skipping upgrade: nbformat in /usr/local/lib/python3.6/dist-packages (from notebook->livelossplot==0.2.2) (4.4.0)\n",
            "Requirement already satisfied, skipping upgrade: terminado>=0.3.3; sys_platform != \"win32\" in /usr/local/lib/python3.6/dist-packages (from notebook->livelossplot==0.2.2) (0.8.1)\n",
            "Requirement already satisfied, skipping upgrade: jupyter-client in /usr/local/lib/python3.6/dist-packages (from notebook->livelossplot==0.2.2) (5.2.3)\n",
            "Requirement already satisfied, skipping upgrade: tornado>=4 in /usr/local/lib/python3.6/dist-packages (from notebook->livelossplot==0.2.2) (4.5.3)\n",
            "Requirement already satisfied, skipping upgrade: ipykernel in /usr/local/lib/python3.6/dist-packages (from notebook->livelossplot==0.2.2) (4.6.1)\n",
            "Requirement already satisfied, skipping upgrade: pandocfilters>=1.4.1 in /usr/local/lib/python3.6/dist-packages (from nbconvert->notebook->livelossplot==0.2.2) (1.4.2)\n",
            "Requirement already satisfied, skipping upgrade: testpath in /usr/local/lib/python3.6/dist-packages (from nbconvert->notebook->livelossplot==0.2.2) (0.4.2)\n",
            "Requirement already satisfied, skipping upgrade: entrypoints>=0.2.2 in /usr/local/lib/python3.6/dist-packages (from nbconvert->notebook->livelossplot==0.2.2) (0.2.3)\n",
            "Requirement already satisfied, skipping upgrade: pygments in /usr/local/lib/python3.6/dist-packages (from nbconvert->notebook->livelossplot==0.2.2) (2.1.3)\n",
            "Requirement already satisfied, skipping upgrade: mistune>=0.8.1 in /usr/local/lib/python3.6/dist-packages (from nbconvert->notebook->livelossplot==0.2.2) (0.8.4)\n",
            "Requirement already satisfied, skipping upgrade: defusedxml in /usr/local/lib/python3.6/dist-packages (from nbconvert->notebook->livelossplot==0.2.2) (0.5.0)\n",
            "Requirement already satisfied, skipping upgrade: bleach in /usr/local/lib/python3.6/dist-packages (from nbconvert->notebook->livelossplot==0.2.2) (3.0.2)\n",
            "Requirement already satisfied, skipping upgrade: MarkupSafe>=0.23 in /usr/local/lib/python3.6/dist-packages (from jinja2->notebook->livelossplot==0.2.2) (1.1.0)\n",
            "Requirement already satisfied, skipping upgrade: decorator in /usr/local/lib/python3.6/dist-packages (from traitlets>=4.2.1->notebook->livelossplot==0.2.2) (4.3.0)\n",
            "Requirement already satisfied, skipping upgrade: jsonschema!=2.5.0,>=2.4 in /usr/local/lib/python3.6/dist-packages (from nbformat->notebook->livelossplot==0.2.2) (2.6.0)\n",
            "Requirement already satisfied, skipping upgrade: ptyprocess; os_name != \"nt\" in /usr/local/lib/python3.6/dist-packages (from terminado>=0.3.3; sys_platform != \"win32\"->notebook->livelossplot==0.2.2) (0.6.0)\n",
            "Requirement already satisfied, skipping upgrade: pyzmq>=13 in /usr/local/lib/python3.6/dist-packages (from jupyter-client->notebook->livelossplot==0.2.2) (17.0.0)\n",
            "Requirement already satisfied, skipping upgrade: ipython>=4.0.0 in /usr/local/lib/python3.6/dist-packages (from ipykernel->notebook->livelossplot==0.2.2) (5.5.0)\n",
            "Requirement already satisfied, skipping upgrade: webencodings in /usr/local/lib/python3.6/dist-packages (from bleach->nbconvert->notebook->livelossplot==0.2.2) (0.5.1)\n",
            "Requirement already satisfied, skipping upgrade: prompt-toolkit<2.0.0,>=1.0.4 in /usr/local/lib/python3.6/dist-packages (from ipython>=4.0.0->ipykernel->notebook->livelossplot==0.2.2) (1.0.15)\n",
            "Requirement already satisfied, skipping upgrade: pickleshare in /usr/local/lib/python3.6/dist-packages (from ipython>=4.0.0->ipykernel->notebook->livelossplot==0.2.2) (0.7.5)\n",
            "Requirement already satisfied, skipping upgrade: simplegeneric>0.8 in /usr/local/lib/python3.6/dist-packages (from ipython>=4.0.0->ipykernel->notebook->livelossplot==0.2.2) (0.8.1)\n",
            "Requirement already satisfied, skipping upgrade: setuptools>=18.5 in /usr/local/lib/python3.6/dist-packages (from ipython>=4.0.0->ipykernel->notebook->livelossplot==0.2.2) (40.6.2)\n",
            "Requirement already satisfied, skipping upgrade: pexpect; sys_platform != \"win32\" in /usr/local/lib/python3.6/dist-packages (from ipython>=4.0.0->ipykernel->notebook->livelossplot==0.2.2) (4.6.0)\n",
            "Requirement already satisfied, skipping upgrade: wcwidth in /usr/local/lib/python3.6/dist-packages (from prompt-toolkit<2.0.0,>=1.0.4->ipython>=4.0.0->ipykernel->notebook->livelossplot==0.2.2) (0.1.7)\n",
            "Building wheels for collected packages: livelossplot\n",
            "  Running setup.py bdist_wheel for livelossplot ... \u001b[?25l-\b \bdone\n",
            "\u001b[?25h  Stored in directory: /tmp/pip-ephem-wheel-cache-id3un99d/wheels/73/e2/09/79ee9f5b0be18dc9c6ee17f0dc181708c1cf9513c70053ca92\n",
            "Successfully built livelossplot\n",
            "Installing collected packages: livelossplot\n",
            "Successfully installed livelossplot-0.2.2\n"
          ],
          "name": "stdout"
        }
      ]
    },
    {
      "metadata": {
        "id": "fYM9pGY3PNEM",
        "colab_type": "text"
      },
      "cell_type": "markdown",
      "source": [
        "# Test if GPU enabled"
      ]
    },
    {
      "metadata": {
        "id": "1H4KKVizOwi7",
        "colab_type": "code",
        "outputId": "daa31dff-6174-4737-da3f-b7af8e1f3ad1",
        "colab": {
          "base_uri": "https://localhost:8080/",
          "height": 54
        }
      },
      "cell_type": "code",
      "source": [
        "import tensorflow as tf\n",
        "tf.test.gpu_device_name()"
      ],
      "execution_count": 0,
      "outputs": [
        {
          "output_type": "execute_result",
          "data": {
            "text/plain": [
              "'/device:GPU:0'"
            ]
          },
          "metadata": {
            "tags": []
          },
          "execution_count": 2
        }
      ]
    },
    {
      "metadata": {
        "colab_type": "text",
        "id": "N0EyqtdYPUa1"
      },
      "cell_type": "markdown",
      "source": [
        "# Load packages"
      ]
    },
    {
      "metadata": {
        "colab_type": "code",
        "id": "OnJQN5ZkPUa2",
        "colab": {
          "base_uri": "https://localhost:8080/",
          "height": 34
        },
        "outputId": "9696a377-665b-4918-816d-2ff752984c15"
      },
      "cell_type": "code",
      "source": [
        "import torch\n",
        "import torch.nn as nn\n",
        "import torchvision\n",
        "import torch.nn.functional as F\n",
        "import torchvision.datasets as dsets\n",
        "import torchvision.transforms as transforms\n",
        "from torch.autograd import Variable\n",
        "import torch.utils.data as utils\n",
        "\n",
        "from livelossplot import PlotLosses\n",
        "\n",
        "from google.colab import drive\n",
        "\n",
        "import numpy as np\n",
        "import time\n",
        "from sklearn.model_selection import KFold\n",
        "import matplotlib\n",
        "import matplotlib.pyplot as plt"
      ],
      "execution_count": 2,
      "outputs": [
        {
          "output_type": "stream",
          "text": [
            "Using TensorFlow backend.\n"
          ],
          "name": "stderr"
        }
      ]
    },
    {
      "metadata": {
        "colab_type": "text",
        "id": "Q3yq8bytPUa4"
      },
      "cell_type": "markdown",
      "source": [
        "# Mount Drive and open matrices"
      ]
    },
    {
      "metadata": {
        "colab_type": "code",
        "outputId": "39963b47-b53d-45bb-cc8b-62f91c95dd92",
        "id": "yaEOMZRMPUa6",
        "colab": {
          "base_uri": "https://localhost:8080/",
          "height": 123
        }
      },
      "cell_type": "code",
      "source": [
        "drive.mount('/content/gdrive')"
      ],
      "execution_count": 5,
      "outputs": [
        {
          "output_type": "stream",
          "text": [
            "Go to this URL in a browser: https://accounts.google.com/o/oauth2/auth?client_id=947318989803-6bn6qk8qdgf4n4g3pfee6491hc0brc4i.apps.googleusercontent.com&redirect_uri=urn%3Aietf%3Awg%3Aoauth%3A2.0%3Aoob&scope=email%20https%3A%2F%2Fwww.googleapis.com%2Fauth%2Fdocs.test%20https%3A%2F%2Fwww.googleapis.com%2Fauth%2Fdrive%20https%3A%2F%2Fwww.googleapis.com%2Fauth%2Fdrive.photos.readonly%20https%3A%2F%2Fwww.googleapis.com%2Fauth%2Fpeopleapi.readonly&response_type=code\n",
            "\n",
            "Enter your authorization code:\n",
            "··········\n",
            "Mounted at /content/gdrive\n"
          ],
          "name": "stdout"
        }
      ]
    },
    {
      "metadata": {
        "id": "Kbe6Xz6Jdwyu",
        "colab_type": "code",
        "colab": {}
      },
      "cell_type": "code",
      "source": [
        "import re\n",
        "\n",
        "def tryint(s):\n",
        "    try:\n",
        "        return int(s)\n",
        "    except ValueError:\n",
        "        return s\n",
        "     \n",
        "def alphanum_key(s):\n",
        "    \"\"\" Turn a string into a list of string and number chunks.\n",
        "        \"z23a\" -> [\"z\", 23, \"a\"]\n",
        "    \"\"\"\n",
        "    return [ tryint(c) for c in re.split('([0-9]+)', s) ]\n",
        "\n",
        "def sort_nicely(l):\n",
        "    \"\"\" Sort the given list in the way that humans expect.\n",
        "    \n",
        "    amazing <3 RegExp\n",
        "    \"\"\"\n",
        "    l.sort(key=alphanum_key)\n",
        "    return l"
      ],
      "execution_count": 0,
      "outputs": []
    },
    {
      "metadata": {
        "colab_type": "code",
        "id": "9dW6gscJPUa_",
        "outputId": "fb176252-06ca-410e-8cb2-8ce2029f3e4a",
        "colab": {
          "base_uri": "https://localhost:8080/",
          "height": 51
        }
      },
      "cell_type": "code",
      "source": [
        "import os\n",
        "\n",
        "model_type = ['keywords_tfidf', 'keywords_clusters'][1]\n",
        "mode = ['count', 'binary'][1]\n",
        "train, test = None, None\n",
        "train_classes, train_user_data, train_matrices, train_dates = None, None, None, None\n",
        "\n",
        "base_str = '/content/gdrive/My Drive/Colab Notebooks/data/btc/{}/{}/train/'.format(model_type, mode)\n",
        "files = os.listdir(base_str)\n",
        "for train_file in sort_nicely(files):\n",
        "    if 'c_up' in train_file:\n",
        "        temp = np.load(base_str + train_file)\n",
        "        if train_classes is None:\n",
        "            train_classes = temp\n",
        "        else:\n",
        "            train_classes = np.concatenate((train_classes, temp), axis=0)\n",
        "    elif 'md_up' in train_file:\n",
        "        temp = np.load(base_str + train_file)\n",
        "        if train_user_data is None:\n",
        "            train_user_data = temp\n",
        "        else:\n",
        "            train_user_data = np.vstack((train_user_data, temp))\n",
        "    elif 'dp_up' in train_file:\n",
        "        temp = np.load(base_str + train_file)\n",
        "        if train_matrices is None:\n",
        "            train_matrices = temp\n",
        "        else:\n",
        "            train_matrices = np.vstack((train_matrices, temp))\n",
        "    elif 'dt_up' in train_file:\n",
        "        temp = np.load(base_str + train_file)\n",
        "        if train_dates is None:\n",
        "            train_dates = temp\n",
        "        else:\n",
        "            train_dates = np.concatenate((train_dates, temp), axis=0)\n",
        "\n",
        "test_classes, test_user_data, test_matrices, test_dates = None, None, None, None\n",
        "base_str = '/content/gdrive/My Drive/Colab Notebooks/data/btc/{}/{}/test/'.format(model_type, mode)\n",
        "\n",
        "for test_file in sort_nicely(os.listdir(base_str)):\n",
        "    if 'c_up' in test_file:\n",
        "        temp = np.load(base_str + test_file)\n",
        "        if test_classes is None:\n",
        "            test_classes = temp\n",
        "        else:\n",
        "            test_classes = np.concatenate((test_classes, temp), axis=0)\n",
        "    elif 'md_up' in test_file:\n",
        "        temp = np.load(base_str + test_file)\n",
        "        if test_user_data is None:\n",
        "            test_user_data = temp\n",
        "        else:\n",
        "            test_user_data = np.vstack((test_user_data, temp))\n",
        "    elif 'dp_up' in test_file:\n",
        "        temp = np.load(base_str + test_file)\n",
        "        if test_matrices is None:\n",
        "            test_matrices = temp\n",
        "        else:\n",
        "            test_matrices = np.vstack((test_matrices, temp))\n",
        "    elif 'dt_up' in test_file:\n",
        "        temp = np.load(base_str + test_file)\n",
        "        if test_dates is None:\n",
        "            test_dates = temp\n",
        "        else:\n",
        "            test_dates = np.concatenate((test_dates, temp), axis=0)\n",
        "            \n",
        "print('Test shapes: ', test_classes.shape, test_user_data.shape, \n",
        "      test_matrices.shape, test_dates.shape)\n",
        "\n",
        "print('Train shapes: ', train_classes.shape, train_user_data.shape, \n",
        "      train_matrices.shape, train_dates.shape)"
      ],
      "execution_count": 9,
      "outputs": [
        {
          "output_type": "stream",
          "text": [
            "Test shapes:  (22695,) (22695, 8) (22695, 200, 7) (22695,)\n",
            "Train shapes:  (144578,) (144578, 8) (144578, 200, 7) (144578,)\n"
          ],
          "name": "stdout"
        }
      ]
    },
    {
      "metadata": {
        "id": "HGXopB4KnpHH",
        "colab_type": "code",
        "colab": {}
      },
      "cell_type": "code",
      "source": [
        "# Re-assign tokens for train, set unknown test to zero.\n",
        "# Get all users\n",
        "unique_users = np.unique(train_user_data[:,-1])\n",
        "\n",
        "# Assign users a unique id from 0 to n unique ids, \n",
        "# create a dictionairy using training data and re-use during test time.\n",
        "# If users do not exist in training dict, then we assign a userId that\n",
        "# doesn't occur anywhere, so that it doesn't influence our predictions.\n",
        "# Normalize the userIds before hand.\n",
        "user_ids = {}\n",
        "for i, v in enumerate(unique_users):\n",
        "    user_ids[v] = (i+1) / (len(unique_users))\n",
        "\n",
        "for i, v in enumerate(train_user_data):\n",
        "    train_user_data[i,-1] = user_ids[v[-1]]\n",
        "    \n",
        "    \n",
        "for i, v in enumerate(test_user_data):\n",
        "    try:\n",
        "        test_user_data[i,-1] = user_ids[v[-1]]\n",
        "    except:\n",
        "        test_user_data[i,-1] = 0"
      ],
      "execution_count": 0,
      "outputs": []
    },
    {
      "metadata": {
        "id": "TPGKHnAwo-Sg",
        "colab_type": "code",
        "colab": {}
      },
      "cell_type": "code",
      "source": [
        "#Normalize\n",
        "train_user_data[:,:-1] = train_user_data[:,:-1] / train_user_data[:,:-1].max(axis=0)\n",
        "test_user_data[:,:-1] = test_user_data[:,:-1] / train_user_data[:,:-1].max(axis=0)"
      ],
      "execution_count": 0,
      "outputs": []
    },
    {
      "metadata": {
        "id": "R66UXTexmLWt",
        "colab_type": "code",
        "outputId": "6c7164c4-9998-4fbb-f5a9-bbc4c0c529ef",
        "colab": {
          "base_uri": "https://localhost:8080/",
          "height": 34
        }
      },
      "cell_type": "code",
      "source": [
        "cnt_n = 0\n",
        "cnt_y = 0\n",
        "for i in np.unique(test_user_data[:,-1]):\n",
        "    if i in train_user_data[:,-1]:\n",
        "        cnt_y += 1\n",
        "    else:\n",
        "        cnt_n += 1\n",
        "        \n",
        "cnt_n, cnt_y, train_user_data.min(), train_user_data.mean()"
      ],
      "execution_count": 12,
      "outputs": [
        {
          "output_type": "execute_result",
          "data": {
            "text/plain": [
              "(1, 5929, 0.0, 0.1811176429511396)"
            ]
          },
          "metadata": {
            "tags": []
          },
          "execution_count": 12
        }
      ]
    },
    {
      "metadata": {
        "colab_type": "text",
        "id": "LHfXJv19PUbK"
      },
      "cell_type": "markdown",
      "source": [
        "# Device config\n"
      ]
    },
    {
      "metadata": {
        "colab_type": "code",
        "id": "Vz5EK_lsPUbK",
        "colab": {}
      },
      "cell_type": "code",
      "source": [
        "# Device configuration\n",
        "use_cuda = True\n",
        "device = torch.device(\"cuda\" if use_cuda else \"cpu\")"
      ],
      "execution_count": 0,
      "outputs": []
    },
    {
      "metadata": {
        "colab_type": "text",
        "id": "R8ZUFjzAPUba"
      },
      "cell_type": "markdown",
      "source": [
        "# Process data and set parameters"
      ]
    },
    {
      "metadata": {
        "colab_type": "code",
        "id": "wA1Jtv8wPUbb",
        "outputId": "43871d14-bc93-4e5e-d47e-f28f739edd31",
        "colab": {
          "base_uri": "https://localhost:8080/",
          "height": 103
        }
      },
      "cell_type": "code",
      "source": [
        "# Hyper parameters\n",
        "num_epochs = 50\n",
        "num_classes = 1\n",
        "batch_size = 4\n",
        "learning_rate = 0.1\n",
        "size_user_info = 8\n",
        "\n",
        "print('''Occurences of zero/one vs total amount of \n",
        "classes for train and test set:\n",
        "-------------------------------''')\n",
        "for d in [train_classes, test_classes]:\n",
        "    occ_zero = len([x for x in d if x == 0])\n",
        "    occ_one = len(d) - occ_zero\n",
        "    print(occ_one, occ_zero, len(d))\n",
        "\n",
        "tensor_1 = torch.from_numpy(train_matrices)\n",
        "tensor_2 = torch.from_numpy(train_classes)\n",
        "tensor_3 = torch.from_numpy(train_user_data.astype(float))\n",
        "tensor_4 = torch.from_numpy(train_dates.astype(float))\n",
        "full_dataset = torch.utils.data.TensorDataset(tensor_1, tensor_2, tensor_3, tensor_4)\n",
        "\n",
        "tensor_1 = torch.from_numpy(test_matrices)\n",
        "tensor_2 = torch.from_numpy(test_classes)\n",
        "tensor_3 = torch.from_numpy(test_user_data.astype(float))\n",
        "tensor_4 = torch.from_numpy(test_dates.astype(float))\n",
        "\n",
        "test = torch.utils.data.TensorDataset(tensor_1, tensor_2, tensor_3, tensor_4)\n",
        "test_loader = torch.utils.data.DataLoader(dataset=test,\n",
        "                                          batch_size=batch_size,\n",
        "                                          drop_last=True,\n",
        "                                          shuffle=False)"
      ],
      "execution_count": 23,
      "outputs": [
        {
          "output_type": "stream",
          "text": [
            "Occurences of zero/one vs total amount of \n",
            "classes for train and test set:\n",
            "-------------------------------\n",
            "65104 79474 144578\n",
            "8149 14546 22695\n"
          ],
          "name": "stdout"
        }
      ]
    },
    {
      "metadata": {
        "id": "zEhs--jkfUGa",
        "colab_type": "text"
      },
      "cell_type": "markdown",
      "source": [
        "# Model"
      ]
    },
    {
      "metadata": {
        "colab_type": "text",
        "id": "Ci9PWyjRPUbW"
      },
      "cell_type": "markdown",
      "source": [
        "## Setup Model"
      ]
    },
    {
      "metadata": {
        "colab_type": "code",
        "id": "5ZuzphFRPUbW",
        "colab": {}
      },
      "cell_type": "code",
      "source": [
        "class ConvNet(nn.Module):\n",
        "    def __init__(self, num_classes):\n",
        "        super(ConvNet, self).__init__()\n",
        "        self.conv1 = nn.Conv1d(200, 12, kernel_size=5, stride=1, padding=1)\n",
        "        self.conv2 = nn.Conv1d(12, 5, kernel_size=3, stride=1, padding=1)\n",
        "        self.fc1 = nn.Linear(5*5, 10)\n",
        "        self.fc3 = nn.Linear(10 + size_user_info, num_classes)\n",
        "        self.out_act = nn.Sigmoid()\n",
        "\n",
        "    def forward(self, x, user_data):\n",
        "        x = x.view(batch_size, 200, 7).float()\n",
        "        x = F.relu(self.conv1(x))\n",
        "        x = F.relu(self.conv2(x))\n",
        "        x = x.view(x.size(0), -1)\n",
        "        x = F.relu(self.fc1(x))\n",
        "        x = torch.cat((x, user_data.float()), 1)\n",
        "        x = self.fc3(x)\n",
        "        x = self.out_act(x)\n",
        "        return x\n",
        "\n",
        "model = ConvNet(num_classes).to(device)\n",
        "\n",
        "criterion = nn.BCELoss()\n",
        "optimizer = torch.optim.Adam(model.parameters(), lr=learning_rate)"
      ],
      "execution_count": 0,
      "outputs": []
    },
    {
      "metadata": {
        "id": "7mFcxQnvbvHp",
        "colab_type": "code",
        "outputId": "4b7ce2fc-bd40-4a3e-e7c6-d19bec9733ae",
        "colab": {
          "base_uri": "https://localhost:8080/",
          "height": 34
        }
      },
      "cell_type": "code",
      "source": [
        "pytorch_total_params = sum(p.numel() for p in model.parameters() if p.requires_grad)\n",
        "pytorch_total_params"
      ],
      "execution_count": 0,
      "outputs": [
        {
          "output_type": "execute_result",
          "data": {
            "text/plain": [
              "12476"
            ]
          },
          "metadata": {
            "tags": []
          },
          "execution_count": 282
        }
      ]
    },
    {
      "metadata": {
        "id": "j_Sg1xu6LxqK",
        "colab_type": "text"
      },
      "cell_type": "markdown",
      "source": [
        "## (Optional) Load model"
      ]
    },
    {
      "metadata": {
        "id": "RJkcal8DLyIF",
        "colab_type": "code",
        "colab": {}
      },
      "cell_type": "code",
      "source": [
        "base_str = '/content/gdrive/My Drive/Colab Notebooks/data/btc'\n",
        "model = model.load_state_dict(torch.load('{}/model_{}_{}_{}.ckpt'.format(\n",
        "    base_str, num_epochs, batch_size, 'cluster')))\n"
      ],
      "execution_count": 0,
      "outputs": []
    },
    {
      "metadata": {
        "id": "C-QvA-Tif6Ea",
        "colab_type": "text"
      },
      "cell_type": "markdown",
      "source": [
        "## Methods"
      ]
    },
    {
      "metadata": {
        "id": "cUXpr9gDb2jG",
        "colab_type": "code",
        "colab": {}
      },
      "cell_type": "code",
      "source": [
        "def validate_model(val_loader):\n",
        "    model.eval()  # eval mode (batchnorm uses moving mean/variance instead of mini-batch mean/variance)\n",
        "    with torch.no_grad():\n",
        "        correct = 0\n",
        "        total = 0\n",
        "        losses = []\n",
        "        for images, labels, user_data, dates in val_loader:\n",
        "            images = images.to(device)\n",
        "            labels = labels.to(device)\n",
        "            user_data = user_data.to(device)\n",
        "            outputs = model(images, user_data)\n",
        "            predicted = (0.5 > outputs).float() * 1\n",
        "            predicted = [x[0] for x in predicted.data.cpu().numpy()]\n",
        "            loss = criterion(outputs, labels.float())\n",
        "            losses.append(loss.data.cpu().numpy())\n",
        "            \n",
        "            total += labels.size(0)\n",
        "            equals = np.sum(predicted == labels.data.cpu().numpy())\n",
        "            correct += equals\n",
        "        acc = 100 * correct / total\n",
        "        losses = np.mean(losses)\n",
        "        print('Epoch [{}/{}], val acc: {}, val loss: {}'\n",
        "              .format(epoch + 1, num_epochs, acc, losses))\n",
        "        return losses, acc\n",
        "\n",
        "def train_model(train_loader):\n",
        "    correct = 0\n",
        "    total = 0\n",
        "    losses = []\n",
        "    for i, (images, labels, user_data, dates) in enumerate(train_loader):\n",
        "        images = images.to(device)\n",
        "        labels = labels.to(device)\n",
        "        user_data = user_data.to(device)\n",
        "        \n",
        "        # Forward pass\n",
        "        outputs = model(images, user_data)\n",
        "        predicted = (0.5 > outputs).float() * 1\n",
        "        predicted = [x[0] for x in predicted.data.cpu().numpy()]\n",
        "        loss = criterion(outputs, labels.float())\n",
        "        losses.append(loss.data.cpu().numpy())\n",
        "        \n",
        "        # Backward and optimize\n",
        "        optimizer.zero_grad()\n",
        "        loss.backward()\n",
        "        optimizer.step()\n",
        "        \n",
        "        total += labels.size(0)\n",
        "        equals = np.sum(predicted == labels.data.cpu().numpy())\n",
        "        correct += equals\n",
        "\n",
        "        if i % int(len(train_loader) / 3)  == 0:\n",
        "            print('Epoch [{}/{}], Step [{}/{}], Loss: {:.4f}'\n",
        "                  .format(epoch + 1, num_epochs, i + 1, total_step, loss.item()))\n",
        "    return np.mean(losses), 100 * correct / total\n",
        "\n",
        "\n",
        "def test_model(test_loader):\n",
        "    # Test the model\n",
        "#     X_test_lr, y_test_lr = [], []\n",
        "    model.eval()  # eval mode (batchnorm uses moving mean/variance instead of mini-batch mean/variance)\n",
        "    with torch.no_grad():\n",
        "        correct = 0\n",
        "        total = 0\n",
        "        for images, labels, user_data, dates in test_loader:\n",
        "            images = images.to(device)\n",
        "            labels = labels.to(device)\n",
        "            user_data = user_data.to(device)\n",
        "            outputs = model(images, user_data)\n",
        "            predicted = (0.5 > outputs).float() * 1\n",
        "            predicted = [x[0] for x in predicted.data.cpu().numpy()]\n",
        "#             X_test_lr.extend(np.concatenate((outputs.data.cpu().numpy(), \n",
        "#                                               user_data.data.cpu().numpy()), \n",
        "#                                              axis=1))\n",
        "#             y_test_lr.extend(labels.data.cpu().numpy())\n",
        "            total += labels.size(0)\n",
        "            equals = np.sum(predicted == labels.data.cpu().numpy())\n",
        "            correct += equals\n",
        "        acc = 100 * correct / total\n",
        "        print('Test Accuracy of the model on the test images: {} %'.format(acc))\n",
        "        \n",
        "    return acc"
      ],
      "execution_count": 0,
      "outputs": []
    },
    {
      "metadata": {
        "id": "caOTV5E5aLf5",
        "colab_type": "text"
      },
      "cell_type": "markdown",
      "source": [
        "## K-Fold CV"
      ]
    },
    {
      "metadata": {
        "id": "j2AGZKdtaRag",
        "colab_type": "code",
        "outputId": "90679c48-93f1-4c80-9ba9-6ce2e1c4b363",
        "colab": {
          "base_uri": "https://localhost:8080/",
          "height": 138
        }
      },
      "cell_type": "code",
      "source": [
        "# Train the model\n",
        "scheduler = torch.optim.lr_scheduler.ReduceLROnPlateau(optimizer, 'min', \n",
        "                                                       verbose=True, patience=8)\n",
        "n_folds = 2\n",
        "kf = KFold(n_splits=n_folds, shuffle=True)\n",
        "fold_val_losses = []\n",
        "saved_plots = []\n",
        "file_name_base = '/content/gdrive/My Drive/Colab Notebooks/data/btc/plots/{}_fold_'.format(time.time())\n",
        "fold = 0\n",
        "for train_indexes, validation_indexes in kf.split(full_dataset):\n",
        "    fold += 1\n",
        "    liveloss = PlotLosses(save_img=True, file_name=file_name_base + str(fold) + '.png')\n",
        "\n",
        "    train = torch.utils.data.dataset.Subset(full_dataset, train_indexes)\n",
        "    validation = torch.utils.data.dataset.Subset(full_dataset, validation_indexes)\n",
        "    \n",
        "    model = ConvNet(num_classes).to(device)\n",
        "    criterion = nn.BCELoss()\n",
        "    optimizer = torch.optim.Adam(model.parameters(), lr=learning_rate)\n",
        "        \n",
        "    # Set train and validation data loaders.\n",
        "    train_loader = torch.utils.data.DataLoader(dataset=train,\n",
        "                                               batch_size=batch_size,\n",
        "                                               drop_last=True,\n",
        "                                               shuffle=True)\n",
        "    val_loader = torch.utils.data.DataLoader(dataset=validation,\n",
        "                                              batch_size=batch_size,\n",
        "                                              drop_last=True,\n",
        "                                              shuffle=True)\n",
        "    total_step = len(train_loader)\n",
        "    print('-------------------------------')\n",
        "    print('Starting training for new fold')\n",
        "    print('-------------------------------')\n",
        "    for epoch in range(num_epochs):\n",
        "        train_loss, train_acc = train_model(train_loader)\n",
        "        val_loss, val_acc = validate_model(val_loader)\n",
        "        scheduler.step(val_loss)\n",
        "        liveloss.update({\n",
        "            'log loss': train_loss,\n",
        "            'val_log loss': val_loss,\n",
        "            'accuracy': train_acc,\n",
        "            'val_accuracy': val_acc\n",
        "        })\n",
        "        liveloss.draw()\n",
        "    \n",
        "    print('Final validation loss for current fold: {}'.format(val_loss))\n",
        "    fold_val_losses.append(val_loss)\n",
        "    saved_plots.append(liveloss)\n",
        "    \n",
        "print('-------------------------------')\n",
        "print('{}-fold validation has been executed, mean validation loss: {}'.\n",
        "      format(n_folds, np.mean(fold_val_losses)))\n",
        "\n",
        "np.save('/content/gdrive/My Drive/Colab Notebooks/data/btc/plots_crossval_{}_{}_{}.npy'.\n",
        "        format(num_epochs, batch_size, time.time()), np.array(saved_plots))"
      ],
      "execution_count": 0,
      "outputs": [
        {
          "output_type": "stream",
          "text": [
            "-------------------------------\n",
            "Starting training for new fold\n",
            "-------------------------------\n",
            "Epoch [1/50], Step [1/18072], Loss: 0.6744\n"
          ],
          "name": "stdout"
        },
        {
          "output_type": "stream",
          "text": [
            "/usr/local/lib/python3.6/dist-packages/torch/nn/functional.py:1474: UserWarning: Using a target size (torch.Size([4])) that is different to the input size (torch.Size([4, 1])) is deprecated. Please ensure they have the same size.\n",
            "  \"Please ensure they have the same size.\".format(target.size(), input.size()))\n"
          ],
          "name": "stderr"
        },
        {
          "output_type": "stream",
          "text": [
            "Epoch [1/50], Step [6025/18072], Loss: 0.7567\n"
          ],
          "name": "stdout"
        }
      ]
    },
    {
      "metadata": {
        "id": "CV-R2o0ox4fg",
        "colab_type": "text"
      },
      "cell_type": "markdown",
      "source": [
        "### Note: unfortunately the function above overwrites older plots. However, I've saved them into the list below. So you can access them by simply accessing the corresponding index."
      ]
    },
    {
      "metadata": {
        "id": "Vya2JCCMwbd_",
        "colab_type": "code",
        "outputId": "9a8562cb-ffe3-4e88-c6c5-beae59c00fd7",
        "colab": {
          "base_uri": "https://localhost:8080/",
          "height": 446
        }
      },
      "cell_type": "code",
      "source": [
        "saved_plots[1].draw()"
      ],
      "execution_count": 0,
      "outputs": [
        {
          "output_type": "display_data",
          "data": {
            "image/png": "[encoded data removed]",
            "text/plain": [
              "<matplotlib.figure.Figure at 0x7fd680140080>"
            ]
          },
          "metadata": {
            "tags": []
          }
        },
        {
          "output_type": "stream",
          "text": [
            "log loss:\n",
            "training   (min:    0.696, max:    0.707, cur:    0.707)\n",
            "validation (min:    0.688, max:    0.738, cur:    0.694)\n",
            "\n",
            "accuracy:\n",
            "training   (min:   46.925, max:   47.906, cur:   46.925)\n",
            "validation (min:   44.697, max:   51.025, cur:   50.624)\n"
          ],
          "name": "stdout"
        }
      ]
    },
    {
      "metadata": {
        "colab_type": "text",
        "id": "dagH0eMcPUbd"
      },
      "cell_type": "markdown",
      "source": [
        "\n",
        "## Train and test final model"
      ]
    },
    {
      "metadata": {
        "colab_type": "code",
        "id": "8tX7-se4PUbe",
        "colab": {}
      },
      "cell_type": "code",
      "source": [
        "# Init model\n",
        "model = ConvNet(num_classes).to(device)\n",
        "criterion = nn.BCELoss()\n",
        "optimizer = torch.optim.Adam(model.parameters(), lr=learning_rate)\n",
        "\n",
        "# Set train and validation data loaders.\n",
        "len_train = int(len(full_dataset) * 0.8)\n",
        "len_val = len(full_dataset) - len_train\n",
        "train, validation = torch.utils.data.dataset.random_split(full_dataset, [len_train, len_val])\n",
        "\n",
        "train_loader = torch.utils.data.DataLoader(dataset=train,\n",
        "                                           batch_size=batch_size,\n",
        "                                           drop_last=True,\n",
        "                                           shuffle=True)\n",
        "val_loader = torch.utils.data.DataLoader(dataset=validation,\n",
        "                                          batch_size=batch_size,\n",
        "                                          drop_last=True,\n",
        "                                          shuffle=True)\n",
        "# Train the model\n",
        "total_step = len(train_loader)\n",
        "scheduler = torch.optim.lr_scheduler.ReduceLROnPlateau(optimizer, 'min', \n",
        "                                                       verbose=True, patience=2)\n",
        "liveloss = PlotLosses(save_img=True, file_name='/content/gdrive/My Drive/Colab Notebooks/data/btc/plots/{}_result_train.png'.format(time.time()))\n",
        "\n",
        "for epoch in range(num_epochs):\n",
        "    train_loss, train_acc = train_model(train_loader)\n",
        "    val_loss, val_acc = validate_model(val_loader)\n",
        "    scheduler.step(val_loss)\n",
        "    liveloss.update({\n",
        "        'log loss': train_loss,\n",
        "        'val_log loss': val_loss,\n",
        "        'accuracy': train_acc,\n",
        "        'val_accuracy': val_acc\n",
        "    })\n",
        "    liveloss.draw()\n",
        "\n",
        "print('Final validation loss for current fold: {}'.format(val_loss))\n",
        "fold_val_losses.append(val_loss)\n",
        "    \n",
        "acc = test_model(val_loader)\n",
        "\n",
        "# Save the model checkpoint\n",
        "torch.save(model.state_dict(), '/content/gdrive/My Drive/Colab Notebooks/data/btc/models/model_{}_{}_{}_{}_{}.ckpt'.format(\n",
        "    num_epochs, batch_size, model_type, acc, time.time()))"
      ],
      "execution_count": 0,
      "outputs": []
    },
    {
      "metadata": {
        "id": "pUXnWRX8fpRb",
        "colab_type": "text"
      },
      "cell_type": "markdown",
      "source": [
        "# Trading strategy"
      ]
    },
    {
      "metadata": {
        "id": "8Q-u5FZdicm5",
        "colab_type": "text"
      },
      "cell_type": "markdown",
      "source": [
        "## Perform forward pass on training set to generate data for Logistic Regression and majority vote"
      ]
    },
    {
      "metadata": {
        "id": "h2cAcEgQibwk",
        "colab_type": "code",
        "colab": {}
      },
      "cell_type": "code",
      "source": [
        "train_loader = torch.utils.data.DataLoader(dataset=train,batch_size=batch_size, shuffle=False, drop_last=True)\n",
        "train_lr = None\n",
        "\n",
        "model.eval()  # eval mode (batchnorm uses moving mean/variance instead of mini-batch mean/variance)\n",
        "with torch.no_grad():\n",
        "    for images, labels, user_data, dates in train_loader:\n",
        "        images = images.to(device)\n",
        "        labels = labels.to(device)\n",
        "        user_data = user_data.to(device)\n",
        "        outputs = model(images, user_data)\n",
        "        predicted = (0.5 > outputs).float() * 1\n",
        "        \n",
        "        predicted = np.array([x[0] for x in predicted.data.cpu().numpy()])\n",
        "        outputs = np.array([x[0] for x in outputs.data.cpu().numpy()])\n",
        "        labels = np.array([x for x in labels.data.cpu().numpy()])\n",
        "        temp = np.dstack((outputs, labels, \n",
        "                               user_data.data.cpu().numpy()[:,-1],\n",
        "                               dates.data.cpu().numpy(), predicted)).squeeze()\n",
        "        if train_lr is None:\n",
        "            train_lr = temp\n",
        "        else:\n",
        "            train_lr = np.concatenate((train_lr, temp), axis=0)"
      ],
      "execution_count": 0,
      "outputs": []
    },
    {
      "metadata": {
        "id": "fR4_etFQ79j7",
        "colab_type": "code",
        "colab": {}
      },
      "cell_type": "code",
      "source": [
        "test_loader = torch.utils.data.DataLoader(dataset=test, batch_size=batch_size, shuffle=False, drop_last=True)\n",
        "test_lr = None\n",
        "\n",
        "model.eval()  # eval mode (batchnorm uses moving mean/variance instead of mini-batch mean/variance)\n",
        "with torch.no_grad():\n",
        "    for images, labels, user_data, dates in test_loader:\n",
        "        images = images.to(device)\n",
        "        labels = labels.to(device)\n",
        "        user_data = user_data.to(device)\n",
        "        outputs = model(images, user_data)\n",
        "        predicted = (0.5 > outputs).float() * 1\n",
        "        \n",
        "        predicted = np.array([x[0] for x in predicted.data.cpu().numpy()])\n",
        "        outputs = np.array([x[0] for x in outputs.data.cpu().numpy()])\n",
        "        #labels = np.array([x for x in labels.data.cpu().numpy()])\n",
        "        temp = np.dstack((outputs, labels.data.cpu().numpy(), \n",
        "                               user_data.data.cpu().numpy()[:,-1],\n",
        "                               dates.data.cpu().numpy(), predicted)).squeeze()\n",
        "        if test_lr is None:\n",
        "            test_lr = temp\n",
        "        else:\n",
        "            test_lr = np.concatenate((test_lr, temp), axis=0)"
      ],
      "execution_count": 0,
      "outputs": []
    },
    {
      "metadata": {
        "id": "WuPr_kfWs9Ma",
        "colab_type": "text"
      },
      "cell_type": "markdown",
      "source": [
        "## Create dataframe for LR and MV"
      ]
    },
    {
      "metadata": {
        "id": "ntUFSq78tABD",
        "colab_type": "code",
        "colab": {}
      },
      "cell_type": "code",
      "source": [
        "import pandas as pd\n",
        "\n",
        "train_df = pd.DataFrame({'output':train_lr[:,0],'true':train_lr[:,1], \n",
        "                                   'user':train_lr[:,2], 'date':train_lr[:,3], 'pred_max':train_lr[:,4]})\n",
        "test_df = pd.DataFrame({'output':test_lr[:,0],'true':test_lr[:,1], \n",
        "                                   'user':test_lr[:,2], 'date':test_lr[:,3], 'pred_max':test_lr[:,4]})"
      ],
      "execution_count": 0,
      "outputs": []
    },
    {
      "metadata": {
        "id": "6yyRUuOVQKn8",
        "colab_type": "code",
        "colab": {}
      },
      "cell_type": "code",
      "source": [
        "import seaborn \n",
        "\n",
        "seaborn.distplot(train_df['output'][train_df['date'] == 17548.0], bins=100)"
      ],
      "execution_count": 0,
      "outputs": []
    },
    {
      "metadata": {
        "id": "q7cc1r0iv68h",
        "colab_type": "text"
      },
      "cell_type": "markdown",
      "source": [
        "## Perform Majority Vote and predict mean per date"
      ]
    },
    {
      "metadata": {
        "id": "97z4tOppv7Ec",
        "colab_type": "code",
        "colab": {}
      },
      "cell_type": "code",
      "source": [
        "data_MV = train_df[['date', 'output', 'true', 'pred_max']]\n",
        "cnt_MV = 0\n",
        "cnt_max = 0\n",
        "pairs = []\n",
        "dates = data_MV['date'].unique()\n",
        "score = 0\n",
        "for i in range(35, 75):\n",
        "    threshold = i / 100\n",
        "    cnt_MV = 0\n",
        "    cnt_max = 0\n",
        "    pairs = []\n",
        "    for date in dates:\n",
        "        temp = data_MV[data_MV['date'] == date]\n",
        "        y_true = temp['true'].unique()[0]\n",
        "        MV = temp['pred_max'].value_counts().index[0]\n",
        "        max_all = temp['output'].mean()\n",
        "        max_all = 1 if max_all > threshold else 0\n",
        "\n",
        "        if y_true == MV:\n",
        "            cnt_MV += 1\n",
        "        if y_true == max_all:\n",
        "            cnt_max += 1\n",
        "            #print('correct', y_true, temp['output'].mean())\n",
        "        else:\n",
        "            #print('wrong', y_true, temp['output'].mean())\n",
        "            pairs.append([max_all, y_true])\n",
        "    new_score = cnt_max / len(dates)\n",
        "    if new_score > score:\n",
        "        best_thresh = threshold\n",
        "        score = new_score\n",
        "#print(cnt_MV / len(dates), cnt_max / len(dates), len(dates))\n",
        "print('The best score was {} with threshold {}'.format(score, best_thresh))\n",
        "print('Performing MV resulted in an acc of: {}'.format(cnt_MV / len(dates)))"
      ],
      "execution_count": 0,
      "outputs": []
    },
    {
      "metadata": {
        "id": "CFOK6CrUYuMm",
        "colab_type": "text"
      },
      "cell_type": "markdown",
      "source": [
        "## Use best threshold for training set on test set to measure performance"
      ]
    },
    {
      "metadata": {
        "id": "4LQEBa6ZYtvF",
        "colab_type": "code",
        "colab": {}
      },
      "cell_type": "code",
      "source": [
        "data_MV = test_df[['date', 'output', 'true', 'pred_max']]\n",
        "cnt_max = 0\n",
        "pairs = []\n",
        "dates = data_MV['date'].unique()\n",
        "\n",
        "for date in dates:\n",
        "    temp = data_MV[data_MV['date'] == date]\n",
        "    y_true = temp['true'].unique()[0]\n",
        "    MV = temp['pred_max'].value_counts().index[0]\n",
        "    max_all = temp['output'].mean()\n",
        "    max_all = 1 if max_all > best_thresh else 0\n",
        "\n",
        "    if y_true == max_all:\n",
        "        cnt_max += 1\n",
        "        print('correct', y_true, temp['output'].mean())\n",
        "    else:\n",
        "        print('wrong', y_true, temp['output'].mean())\n",
        "        pairs.append([max_all, y_true])\n",
        "\n",
        "print('The score on the test set is: {} with threshold {}'.format(cnt_max / len(dates), best_thresh))\n",
        "print(len(pairs), len([x for x in pairs if x[0] == 1]), len([x for x in pairs if x[0] == 0]))"
      ],
      "execution_count": 0,
      "outputs": []
    },
    {
      "metadata": {
        "id": "7qHZlLPAiFdL",
        "colab_type": "text"
      },
      "cell_type": "markdown",
      "source": [
        "## Create required dataset for Logistic Regression"
      ]
    },
    {
      "metadata": {
        "id": "0fEtBHStVFSy",
        "colab_type": "code",
        "colab": {}
      },
      "cell_type": "code",
      "source": [
        "'''\n",
        "For logistic regression we'd the following input:\n",
        "[user_pred_1, .... user_pred_n]\n",
        "\n",
        "We create a matrix with all zeroes and replace the user predictions if there\n",
        "are any. If there's none, then we simply leave it at zero.\n",
        "\n",
        "So we get a matrix per day with predictions for all users.\n",
        "'''\n",
        "\n",
        "\n",
        "# # Get all users\n",
        "users = train_df['user'].unique()\n",
        "\n",
        "# # Assign users a unique id from 0 to n unique ids, \n",
        "# # create a dictionairy using training data and re-use during test time.\n",
        "user_ids_lr = {}\n",
        "for i, v in enumerate(users):\n",
        "    user_ids_lr[v] = i\n",
        "\n",
        "# Loop over dates, check if user has prediction\n",
        "X_train = None\n",
        "y_train = []\n",
        "cnt = 0\n",
        "for date in train_df['date'].unique():\n",
        "    cnt += 1\n",
        "    temp = train_df[train_df['date'] == date]\n",
        "    arr = np.zeros(len(users))\n",
        "    for row in temp.itertuples():\n",
        "        usr = row[5]\n",
        "        pred = row[2]\n",
        "        lbl = row[4]\n",
        "        arr[user_ids_lr[usr]] = pred\n",
        "    y_train.append([lbl])\n",
        "    if X_train is None:\n",
        "        X_train = arr\n",
        "    else:\n",
        "        X_train = np.vstack((X_train, arr))\n",
        "\n",
        "y_train = np.array(y_train)  "
      ],
      "execution_count": 0,
      "outputs": []
    },
    {
      "metadata": {
        "id": "e3J0LSZwTv9s",
        "colab_type": "code",
        "outputId": "ebcacd3b-283b-4043-c15d-0a2f07a125af",
        "colab": {
          "base_uri": "https://localhost:8080/",
          "height": 12400
        }
      },
      "cell_type": "code",
      "source": [
        "# Loop over dates, check if user has prediction\n",
        "X_test = None\n",
        "y_test = []\n",
        "cnt = 0\n",
        "for date in test_df['date'].unique():\n",
        "    cnt += 1\n",
        "    temp = test_df[test_df['date'] == date]\n",
        "    arr = np.zeros(len(users))\n",
        "    for row in temp.itertuples():\n",
        "        usr = row[5]\n",
        "        pred = row[2]\n",
        "        lbl = row[4]\n",
        "        try:\n",
        "            arr[user_ids_lr[usr]] = pred\n",
        "        except:\n",
        "            print('User {} not found'.format(usr))\n",
        "    y_test.append([lbl])\n",
        "    if X_test is None:\n",
        "        X_test = arr\n",
        "    else:\n",
        "        X_test = np.vstack((X_test, arr))\n",
        "\n",
        "y_test = np.array(y_test)  "
      ],
      "execution_count": 0,
      "outputs": [
        {
          "output_type": "stream",
          "text": [
            "User 1779.0 not found\n",
            "User 0.16769836803601576 not found\n",
            "User 1779.0 not found\n",
            "User 1779.0 not found\n",
            "User 1779.0 not found\n",
            "User 1779.0 not found\n",
            "User 1779.0 not found\n",
            "User 1779.0 not found\n",
            "User 1779.0 not found\n",
            "User 1779.0 not found\n",
            "User 1779.0 not found\n",
            "User 1779.0 not found\n",
            "User 1779.0 not found\n",
            "User 1779.0 not found\n",
            "User 1779.0 not found\n",
            "User 1779.0 not found\n",
            "User 1779.0 not found\n",
            "User 0.9994372537985369 not found\n",
            "User 1779.0 not found\n",
            "User 1779.0 not found\n",
            "User 1779.0 not found\n",
            "User 1779.0 not found\n",
            "User 1779.0 not found\n",
            "User 1779.0 not found\n",
            "User 1779.0 not found\n",
            "User 1779.0 not found\n",
            "User 1779.0 not found\n",
            "User 1779.0 not found\n",
            "User 1779.0 not found\n",
            "User 1779.0 not found\n",
            "User 1779.0 not found\n",
            "User 1779.0 not found\n",
            "User 1779.0 not found\n",
            "User 0.9994372537985369 not found\n",
            "User 1779.0 not found\n",
            "User 1779.0 not found\n",
            "User 1779.0 not found\n",
            "User 1779.0 not found\n",
            "User 1779.0 not found\n",
            "User 1779.0 not found\n",
            "User 1779.0 not found\n",
            "User 1779.0 not found\n",
            "User 1779.0 not found\n",
            "User 1779.0 not found\n",
            "User 1779.0 not found\n",
            "User 1779.0 not found\n",
            "User 1779.0 not found\n",
            "User 1779.0 not found\n",
            "User 1779.0 not found\n",
            "User 1779.0 not found\n",
            "User 1779.0 not found\n",
            "User 1779.0 not found\n",
            "User 1779.0 not found\n",
            "User 1779.0 not found\n",
            "User 1779.0 not found\n",
            "User 1779.0 not found\n",
            "User 1779.0 not found\n",
            "User 1779.0 not found\n",
            "User 1779.0 not found\n",
            "User 1779.0 not found\n",
            "User 1779.0 not found\n",
            "User 1779.0 not found\n",
            "User 1779.0 not found\n",
            "User 1779.0 not found\n",
            "User 1779.0 not found\n",
            "User 1779.0 not found\n",
            "User 1779.0 not found\n",
            "User 0.9994372537985369 not found\n",
            "User 1779.0 not found\n",
            "User 1779.0 not found\n",
            "User 1779.0 not found\n",
            "User 1779.0 not found\n",
            "User 1779.0 not found\n",
            "User 1779.0 not found\n",
            "User 1779.0 not found\n",
            "User 1779.0 not found\n",
            "User 1779.0 not found\n",
            "User 1779.0 not found\n",
            "User 1779.0 not found\n",
            "User 1779.0 not found\n",
            "User 1779.0 not found\n",
            "User 1779.0 not found\n",
            "User 1779.0 not found\n",
            "User 1779.0 not found\n",
            "User 1779.0 not found\n",
            "User 1779.0 not found\n",
            "User 1779.0 not found\n",
            "User 0.9994372537985369 not found\n",
            "User 1779.0 not found\n",
            "User 1779.0 not found\n",
            "User 1779.0 not found\n",
            "User 1779.0 not found\n",
            "User 1779.0 not found\n",
            "User 1779.0 not found\n",
            "User 1779.0 not found\n",
            "User 1779.0 not found\n",
            "User 1779.0 not found\n",
            "User 1779.0 not found\n",
            "User 1779.0 not found\n",
            "User 0.4181204276871131 not found\n",
            "User 1779.0 not found\n",
            "User 1779.0 not found\n",
            "User 1779.0 not found\n",
            "User 1779.0 not found\n",
            "User 1779.0 not found\n",
            "User 1779.0 not found\n",
            "User 1779.0 not found\n",
            "User 1779.0 not found\n",
            "User 1779.0 not found\n",
            "User 1779.0 not found\n",
            "User 1779.0 not found\n",
            "User 1779.0 not found\n",
            "User 1779.0 not found\n",
            "User 1779.0 not found\n",
            "User 1779.0 not found\n",
            "User 1779.0 not found\n",
            "User 1779.0 not found\n",
            "User 1779.0 not found\n",
            "User 1779.0 not found\n",
            "User 1779.0 not found\n",
            "User 1779.0 not found\n",
            "User 1779.0 not found\n",
            "User 1779.0 not found\n",
            "User 1779.0 not found\n",
            "User 1779.0 not found\n",
            "User 1779.0 not found\n",
            "User 1779.0 not found\n",
            "User 1779.0 not found\n",
            "User 1779.0 not found\n",
            "User 1779.0 not found\n",
            "User 0.4181204276871131 not found\n",
            "User 1779.0 not found\n",
            "User 1779.0 not found\n",
            "User 1779.0 not found\n",
            "User 1779.0 not found\n",
            "User 1779.0 not found\n",
            "User 0.050647158131682614 not found\n",
            "User 1779.0 not found\n",
            "User 1779.0 not found\n",
            "User 1779.0 not found\n",
            "User 1779.0 not found\n",
            "User 1779.0 not found\n",
            "User 1779.0 not found\n",
            "User 1779.0 not found\n",
            "User 1779.0 not found\n",
            "User 1779.0 not found\n",
            "User 1779.0 not found\n",
            "User 1779.0 not found\n",
            "User 1779.0 not found\n",
            "User 1779.0 not found\n",
            "User 1779.0 not found\n",
            "User 1779.0 not found\n",
            "User 1779.0 not found\n",
            "User 1779.0 not found\n",
            "User 1779.0 not found\n",
            "User 1779.0 not found\n",
            "User 1779.0 not found\n",
            "User 1779.0 not found\n",
            "User 1779.0 not found\n",
            "User 1779.0 not found\n",
            "User 1779.0 not found\n",
            "User 1779.0 not found\n",
            "User 1779.0 not found\n",
            "User 1779.0 not found\n",
            "User 1779.0 not found\n",
            "User 1779.0 not found\n",
            "User 1779.0 not found\n",
            "User 1779.0 not found\n",
            "User 1779.0 not found\n",
            "User 1779.0 not found\n",
            "User 1779.0 not found\n",
            "User 1779.0 not found\n",
            "User 1779.0 not found\n",
            "User 1779.0 not found\n",
            "User 1779.0 not found\n",
            "User 1779.0 not found\n",
            "User 1779.0 not found\n",
            "User 1779.0 not found\n",
            "User 1779.0 not found\n",
            "User 1779.0 not found\n",
            "User 1779.0 not found\n",
            "User 1779.0 not found\n",
            "User 1779.0 not found\n",
            "User 1779.0 not found\n",
            "User 1779.0 not found\n",
            "User 1779.0 not found\n",
            "User 1779.0 not found\n",
            "User 1779.0 not found\n",
            "User 1779.0 not found\n",
            "User 1779.0 not found\n",
            "User 1779.0 not found\n",
            "User 1779.0 not found\n",
            "User 1779.0 not found\n",
            "User 1779.0 not found\n",
            "User 1779.0 not found\n",
            "User 1779.0 not found\n",
            "User 1779.0 not found\n",
            "User 1779.0 not found\n",
            "User 1779.0 not found\n",
            "User 1779.0 not found\n",
            "User 1779.0 not found\n",
            "User 1779.0 not found\n",
            "User 1779.0 not found\n",
            "User 1779.0 not found\n",
            "User 0.7822172200337648 not found\n",
            "User 1779.0 not found\n",
            "User 1779.0 not found\n",
            "User 1779.0 not found\n",
            "User 1779.0 not found\n",
            "User 1779.0 not found\n",
            "User 1779.0 not found\n",
            "User 1779.0 not found\n",
            "User 1779.0 not found\n",
            "User 1779.0 not found\n",
            "User 1779.0 not found\n",
            "User 1779.0 not found\n",
            "User 1779.0 not found\n",
            "User 1779.0 not found\n",
            "User 1779.0 not found\n",
            "User 1779.0 not found\n",
            "User 1779.0 not found\n",
            "User 1779.0 not found\n",
            "User 1779.0 not found\n",
            "User 1779.0 not found\n",
            "User 1779.0 not found\n",
            "User 1779.0 not found\n",
            "User 1779.0 not found\n",
            "User 0.050647158131682614 not found\n",
            "User 1779.0 not found\n",
            "User 1779.0 not found\n",
            "User 1779.0 not found\n",
            "User 1779.0 not found\n",
            "User 1779.0 not found\n",
            "User 0.48958919527293193 not found\n",
            "User 1779.0 not found\n",
            "User 1779.0 not found\n",
            "User 1779.0 not found\n",
            "User 1779.0 not found\n",
            "User 1779.0 not found\n",
            "User 1779.0 not found\n",
            "User 1779.0 not found\n",
            "User 1779.0 not found\n",
            "User 1779.0 not found\n",
            "User 1779.0 not found\n",
            "User 1779.0 not found\n",
            "User 1779.0 not found\n",
            "User 1779.0 not found\n",
            "User 1779.0 not found\n",
            "User 1779.0 not found\n",
            "User 1779.0 not found\n",
            "User 1779.0 not found\n",
            "User 1779.0 not found\n",
            "User 1779.0 not found\n",
            "User 1779.0 not found\n",
            "User 1779.0 not found\n",
            "User 1779.0 not found\n",
            "User 1779.0 not found\n",
            "User 1779.0 not found\n",
            "User 1779.0 not found\n",
            "User 1779.0 not found\n",
            "User 1779.0 not found\n",
            "User 1779.0 not found\n",
            "User 1779.0 not found\n",
            "User 1779.0 not found\n",
            "User 1779.0 not found\n",
            "User 1779.0 not found\n",
            "User 1779.0 not found\n",
            "User 1779.0 not found\n",
            "User 0.4181204276871131 not found\n",
            "User 1779.0 not found\n",
            "User 0.7822172200337648 not found\n",
            "User 1779.0 not found\n",
            "User 1779.0 not found\n",
            "User 1779.0 not found\n",
            "User 1779.0 not found\n",
            "User 1779.0 not found\n",
            "User 1779.0 not found\n",
            "User 1779.0 not found\n",
            "User 1779.0 not found\n",
            "User 1779.0 not found\n",
            "User 1779.0 not found\n",
            "User 1779.0 not found\n",
            "User 1779.0 not found\n",
            "User 1779.0 not found\n",
            "User 1779.0 not found\n",
            "User 1779.0 not found\n",
            "User 1779.0 not found\n",
            "User 1779.0 not found\n",
            "User 1779.0 not found\n",
            "User 1779.0 not found\n",
            "User 1779.0 not found\n",
            "User 1779.0 not found\n",
            "User 1779.0 not found\n",
            "User 1779.0 not found\n",
            "User 1779.0 not found\n",
            "User 1779.0 not found\n",
            "User 1779.0 not found\n",
            "User 1779.0 not found\n",
            "User 1779.0 not found\n",
            "User 1779.0 not found\n",
            "User 1779.0 not found\n",
            "User 1779.0 not found\n",
            "User 1779.0 not found\n",
            "User 1779.0 not found\n",
            "User 1779.0 not found\n",
            "User 1779.0 not found\n",
            "User 1779.0 not found\n",
            "User 1779.0 not found\n",
            "User 1779.0 not found\n",
            "User 1779.0 not found\n",
            "User 1779.0 not found\n",
            "User 1779.0 not found\n",
            "User 1779.0 not found\n",
            "User 1779.0 not found\n",
            "User 1779.0 not found\n",
            "User 1779.0 not found\n",
            "User 1779.0 not found\n",
            "User 1779.0 not found\n",
            "User 1779.0 not found\n",
            "User 1779.0 not found\n",
            "User 1779.0 not found\n",
            "User 1779.0 not found\n",
            "User 1779.0 not found\n",
            "User 1779.0 not found\n",
            "User 1779.0 not found\n",
            "User 1779.0 not found\n",
            "User 1779.0 not found\n",
            "User 1779.0 not found\n",
            "User 1779.0 not found\n",
            "User 1779.0 not found\n",
            "User 1779.0 not found\n",
            "User 1779.0 not found\n",
            "User 1779.0 not found\n",
            "User 1779.0 not found\n",
            "User 1779.0 not found\n",
            "User 1779.0 not found\n",
            "User 0.7822172200337648 not found\n",
            "User 1779.0 not found\n",
            "User 1779.0 not found\n",
            "User 1779.0 not found\n",
            "User 1779.0 not found\n",
            "User 1779.0 not found\n",
            "User 1779.0 not found\n",
            "User 1779.0 not found\n",
            "User 1779.0 not found\n",
            "User 1779.0 not found\n",
            "User 1779.0 not found\n",
            "User 1779.0 not found\n",
            "User 1779.0 not found\n",
            "User 1779.0 not found\n",
            "User 1779.0 not found\n",
            "User 1779.0 not found\n",
            "User 1779.0 not found\n",
            "User 1779.0 not found\n",
            "User 1779.0 not found\n",
            "User 1779.0 not found\n",
            "User 1779.0 not found\n",
            "User 1779.0 not found\n",
            "User 1779.0 not found\n",
            "User 1779.0 not found\n",
            "User 1779.0 not found\n",
            "User 1779.0 not found\n",
            "User 1779.0 not found\n",
            "User 1779.0 not found\n",
            "User 1779.0 not found\n",
            "User 1779.0 not found\n",
            "User 1779.0 not found\n",
            "User 1779.0 not found\n",
            "User 1779.0 not found\n",
            "User 1779.0 not found\n",
            "User 1779.0 not found\n",
            "User 1779.0 not found\n",
            "User 1779.0 not found\n",
            "User 1779.0 not found\n",
            "User 1779.0 not found\n",
            "User 1779.0 not found\n",
            "User 1779.0 not found\n",
            "User 1779.0 not found\n",
            "User 1779.0 not found\n",
            "User 1779.0 not found\n",
            "User 1779.0 not found\n",
            "User 1779.0 not found\n",
            "User 1779.0 not found\n",
            "User 1779.0 not found\n",
            "User 1779.0 not found\n",
            "User 1779.0 not found\n",
            "User 1779.0 not found\n",
            "User 1779.0 not found\n",
            "User 1779.0 not found\n",
            "User 1779.0 not found\n",
            "User 1779.0 not found\n",
            "User 1779.0 not found\n",
            "User 1779.0 not found\n",
            "User 1779.0 not found\n",
            "User 1779.0 not found\n",
            "User 1779.0 not found\n",
            "User 1779.0 not found\n",
            "User 1779.0 not found\n",
            "User 1779.0 not found\n",
            "User 1779.0 not found\n",
            "User 1779.0 not found\n",
            "User 1779.0 not found\n",
            "User 1779.0 not found\n",
            "User 1779.0 not found\n",
            "User 1779.0 not found\n",
            "User 1779.0 not found\n",
            "User 1779.0 not found\n",
            "User 1779.0 not found\n",
            "User 1779.0 not found\n",
            "User 1779.0 not found\n",
            "User 1779.0 not found\n",
            "User 1779.0 not found\n",
            "User 1779.0 not found\n",
            "User 1779.0 not found\n",
            "User 1779.0 not found\n",
            "User 1779.0 not found\n",
            "User 1779.0 not found\n",
            "User 1779.0 not found\n",
            "User 1779.0 not found\n",
            "User 1779.0 not found\n",
            "User 1779.0 not found\n",
            "User 1779.0 not found\n",
            "User 1779.0 not found\n",
            "User 1779.0 not found\n",
            "User 1779.0 not found\n",
            "User 1779.0 not found\n",
            "User 1779.0 not found\n",
            "User 1779.0 not found\n",
            "User 1779.0 not found\n",
            "User 1779.0 not found\n",
            "User 1779.0 not found\n",
            "User 1779.0 not found\n",
            "User 1779.0 not found\n",
            "User 1779.0 not found\n",
            "User 1779.0 not found\n",
            "User 1779.0 not found\n",
            "User 1779.0 not found\n",
            "User 1779.0 not found\n",
            "User 1779.0 not found\n",
            "User 1779.0 not found\n",
            "User 1779.0 not found\n",
            "User 1779.0 not found\n",
            "User 1779.0 not found\n",
            "User 1779.0 not found\n",
            "User 1779.0 not found\n",
            "User 1779.0 not found\n",
            "User 1779.0 not found\n",
            "User 1779.0 not found\n",
            "User 1779.0 not found\n",
            "User 1779.0 not found\n",
            "User 1779.0 not found\n",
            "User 1779.0 not found\n",
            "User 1779.0 not found\n",
            "User 1779.0 not found\n",
            "User 1779.0 not found\n",
            "User 1779.0 not found\n",
            "User 1779.0 not found\n",
            "User 1779.0 not found\n",
            "User 1779.0 not found\n",
            "User 1779.0 not found\n",
            "User 1779.0 not found\n",
            "User 1779.0 not found\n",
            "User 1779.0 not found\n",
            "User 1779.0 not found\n",
            "User 1779.0 not found\n",
            "User 1779.0 not found\n",
            "User 1779.0 not found\n",
            "User 1779.0 not found\n",
            "User 0.27968486212718063 not found\n",
            "User 1779.0 not found\n",
            "User 1779.0 not found\n",
            "User 1779.0 not found\n",
            "User 1779.0 not found\n",
            "User 1779.0 not found\n",
            "User 1779.0 not found\n",
            "User 1779.0 not found\n",
            "User 1779.0 not found\n",
            "User 1779.0 not found\n",
            "User 1779.0 not found\n",
            "User 1779.0 not found\n",
            "User 1779.0 not found\n",
            "User 1779.0 not found\n",
            "User 1779.0 not found\n",
            "User 1779.0 not found\n",
            "User 1779.0 not found\n",
            "User 1779.0 not found\n",
            "User 1779.0 not found\n",
            "User 1779.0 not found\n",
            "User 1779.0 not found\n",
            "User 1779.0 not found\n",
            "User 1779.0 not found\n",
            "User 1779.0 not found\n",
            "User 1779.0 not found\n",
            "User 1779.0 not found\n",
            "User 0.48958919527293193 not found\n",
            "User 1779.0 not found\n",
            "User 1779.0 not found\n",
            "User 1779.0 not found\n",
            "User 1779.0 not found\n",
            "User 1779.0 not found\n",
            "User 1779.0 not found\n",
            "User 1779.0 not found\n",
            "User 1779.0 not found\n",
            "User 1779.0 not found\n",
            "User 1779.0 not found\n",
            "User 1779.0 not found\n",
            "User 1779.0 not found\n",
            "User 1779.0 not found\n",
            "User 1779.0 not found\n",
            "User 1779.0 not found\n",
            "User 1779.0 not found\n",
            "User 1779.0 not found\n",
            "User 1779.0 not found\n",
            "User 1779.0 not found\n",
            "User 1779.0 not found\n",
            "User 1779.0 not found\n",
            "User 1779.0 not found\n",
            "User 1779.0 not found\n",
            "User 1779.0 not found\n",
            "User 1779.0 not found\n",
            "User 1779.0 not found\n",
            "User 1779.0 not found\n",
            "User 0.27968486212718063 not found\n",
            "User 1779.0 not found\n",
            "User 1779.0 not found\n",
            "User 1779.0 not found\n",
            "User 1779.0 not found\n",
            "User 1779.0 not found\n",
            "User 1779.0 not found\n",
            "User 1779.0 not found\n",
            "User 1779.0 not found\n",
            "User 1779.0 not found\n",
            "User 1779.0 not found\n",
            "User 0.4181204276871131 not found\n",
            "User 1779.0 not found\n",
            "User 1779.0 not found\n",
            "User 1779.0 not found\n",
            "User 1779.0 not found\n",
            "User 1779.0 not found\n",
            "User 1779.0 not found\n",
            "User 1779.0 not found\n",
            "User 1779.0 not found\n",
            "User 1779.0 not found\n",
            "User 1779.0 not found\n",
            "User 1779.0 not found\n",
            "User 1779.0 not found\n",
            "User 1779.0 not found\n",
            "User 1779.0 not found\n",
            "User 1779.0 not found\n",
            "User 1779.0 not found\n",
            "User 1779.0 not found\n",
            "User 1779.0 not found\n",
            "User 1779.0 not found\n",
            "User 1779.0 not found\n",
            "User 1779.0 not found\n",
            "User 1779.0 not found\n",
            "User 1779.0 not found\n",
            "User 1779.0 not found\n",
            "User 1779.0 not found\n",
            "User 1779.0 not found\n",
            "User 1779.0 not found\n",
            "User 1779.0 not found\n",
            "User 1779.0 not found\n",
            "User 1779.0 not found\n",
            "User 1779.0 not found\n",
            "User 1779.0 not found\n",
            "User 1779.0 not found\n",
            "User 1779.0 not found\n",
            "User 1779.0 not found\n",
            "User 1779.0 not found\n",
            "User 1779.0 not found\n",
            "User 1779.0 not found\n",
            "User 1779.0 not found\n",
            "User 1779.0 not found\n",
            "User 1779.0 not found\n",
            "User 1779.0 not found\n",
            "User 0.27968486212718063 not found\n",
            "User 1779.0 not found\n",
            "User 1779.0 not found\n",
            "User 1779.0 not found\n",
            "User 1779.0 not found\n",
            "User 1779.0 not found\n",
            "User 1779.0 not found\n",
            "User 1779.0 not found\n",
            "User 1779.0 not found\n",
            "User 0.4181204276871131 not found\n",
            "User 1779.0 not found\n",
            "User 1779.0 not found\n",
            "User 1779.0 not found\n",
            "User 1779.0 not found\n",
            "User 1779.0 not found\n",
            "User 1779.0 not found\n",
            "User 1779.0 not found\n",
            "User 1779.0 not found\n",
            "User 1779.0 not found\n",
            "User 1779.0 not found\n",
            "User 1779.0 not found\n",
            "User 1779.0 not found\n",
            "User 1779.0 not found\n",
            "User 1779.0 not found\n",
            "User 1779.0 not found\n",
            "User 1779.0 not found\n",
            "User 1779.0 not found\n",
            "User 1779.0 not found\n",
            "User 1779.0 not found\n",
            "User 1779.0 not found\n",
            "User 1779.0 not found\n",
            "User 1779.0 not found\n",
            "User 1779.0 not found\n",
            "User 1779.0 not found\n",
            "User 1779.0 not found\n",
            "User 1779.0 not found\n",
            "User 1779.0 not found\n",
            "User 1779.0 not found\n",
            "User 1779.0 not found\n",
            "User 1779.0 not found\n",
            "User 1779.0 not found\n",
            "User 1779.0 not found\n",
            "User 1779.0 not found\n",
            "User 1779.0 not found\n",
            "User 1779.0 not found\n",
            "User 1779.0 not found\n",
            "User 1779.0 not found\n",
            "User 1779.0 not found\n",
            "User 1779.0 not found\n",
            "User 0.558244231851435 not found\n",
            "User 1779.0 not found\n",
            "User 1779.0 not found\n",
            "User 1779.0 not found\n",
            "User 1779.0 not found\n",
            "User 1779.0 not found\n",
            "User 1779.0 not found\n",
            "User 1779.0 not found\n",
            "User 1779.0 not found\n",
            "User 1779.0 not found\n",
            "User 1779.0 not found\n",
            "User 1779.0 not found\n",
            "User 1779.0 not found\n",
            "User 1779.0 not found\n",
            "User 1779.0 not found\n",
            "User 1779.0 not found\n",
            "User 1779.0 not found\n",
            "User 1779.0 not found\n",
            "User 1779.0 not found\n",
            "User 1779.0 not found\n",
            "User 1779.0 not found\n",
            "User 1779.0 not found\n",
            "User 1779.0 not found\n",
            "User 1779.0 not found\n",
            "User 1779.0 not found\n",
            "User 1779.0 not found\n",
            "User 1779.0 not found\n",
            "User 1779.0 not found\n",
            "User 1779.0 not found\n",
            "User 1779.0 not found\n",
            "User 1779.0 not found\n",
            "User 1779.0 not found\n",
            "User 1779.0 not found\n",
            "User 1779.0 not found\n",
            "User 1779.0 not found\n",
            "User 1779.0 not found\n",
            "User 1779.0 not found\n",
            "User 1779.0 not found\n",
            "User 1779.0 not found\n",
            "User 1779.0 not found\n",
            "User 1779.0 not found\n",
            "User 1779.0 not found\n",
            "User 1779.0 not found\n",
            "User 1779.0 not found\n",
            "User 1779.0 not found\n",
            "User 1779.0 not found\n",
            "User 1779.0 not found\n",
            "User 1779.0 not found\n",
            "User 1779.0 not found\n",
            "User 1779.0 not found\n",
            "User 1779.0 not found\n",
            "User 1779.0 not found\n",
            "User 1779.0 not found\n",
            "User 1779.0 not found\n",
            "User 1779.0 not found\n",
            "User 1779.0 not found\n",
            "User 1779.0 not found\n",
            "User 1779.0 not found\n",
            "User 1779.0 not found\n",
            "User 1779.0 not found\n",
            "User 1779.0 not found\n",
            "User 1779.0 not found\n",
            "User 1779.0 not found\n",
            "User 1779.0 not found\n",
            "User 1779.0 not found\n",
            "User 1779.0 not found\n",
            "User 1779.0 not found\n",
            "User 1779.0 not found\n",
            "User 1779.0 not found\n",
            "User 1779.0 not found\n",
            "User 1779.0 not found\n",
            "User 1779.0 not found\n",
            "User 1779.0 not found\n",
            "User 1779.0 not found\n",
            "User 1779.0 not found\n",
            "User 1779.0 not found\n",
            "User 1779.0 not found\n",
            "User 1779.0 not found\n",
            "User 1779.0 not found\n",
            "User 1779.0 not found\n",
            "User 1779.0 not found\n",
            "User 1779.0 not found\n",
            "User 1779.0 not found\n",
            "User 1779.0 not found\n",
            "User 1779.0 not found\n",
            "User 1779.0 not found\n",
            "User 1779.0 not found\n",
            "User 1779.0 not found\n",
            "User 1779.0 not found\n",
            "User 1779.0 not found\n",
            "User 1779.0 not found\n",
            "User 1779.0 not found\n",
            "User 1779.0 not found\n",
            "User 1779.0 not found\n"
          ],
          "name": "stdout"
        }
      ]
    },
    {
      "metadata": {
        "id": "VNimcQC82Oog",
        "colab_type": "text"
      },
      "cell_type": "markdown",
      "source": [
        "## Perform Logistic Regression"
      ]
    },
    {
      "metadata": {
        "id": "OXSs7t5-wC67",
        "colab_type": "code",
        "outputId": "0e57229e-8a46-4b38-cf87-63431a3c9aea",
        "colab": {
          "base_uri": "https://localhost:8080/",
          "height": 86
        }
      },
      "cell_type": "code",
      "source": [
        "from sklearn.linear_model import LogisticRegression\n",
        "\n",
        "\n",
        "\n",
        "# instantiate the model (using the default parameters)\n",
        "logreg = LogisticRegression(C=0.55)\n",
        "\n",
        "# fit the model with data\n",
        "logreg.fit(X_train, y_train)\n",
        "\n",
        "y_pred = logreg.predict(X_train)\n",
        "\n",
        "from sklearn import metrics\n",
        "cnf_matrix = metrics.confusion_matrix(y_train, y_pred)\n",
        "cnf_matrix"
      ],
      "execution_count": 0,
      "outputs": [
        {
          "output_type": "stream",
          "text": [
            "/usr/local/lib/python3.6/dist-packages/sklearn/utils/validation.py:578: DataConversionWarning: A column-vector y was passed when a 1d array was expected. Please change the shape of y to (n_samples, ), for example using ravel().\n",
            "  y = column_or_1d(y, warn=True)\n"
          ],
          "name": "stderr"
        },
        {
          "output_type": "execute_result",
          "data": {
            "text/plain": [
              "array([[257,  23],\n",
              "       [ 60, 187]])"
            ]
          },
          "metadata": {
            "tags": []
          },
          "execution_count": 145
        }
      ]
    },
    {
      "metadata": {
        "id": "0fC8rTFFTEX0",
        "colab_type": "code",
        "outputId": "db41ef24-ceff-4cb1-c8a6-80c790586c78",
        "colab": {
          "base_uri": "https://localhost:8080/",
          "height": 51
        }
      },
      "cell_type": "code",
      "source": [
        "y_pred = logreg.predict(X_test)\n",
        "\n",
        "from sklearn import metrics\n",
        "cnf_matrix = metrics.confusion_matrix(y_test, y_pred)\n",
        "cnf_matrix"
      ],
      "execution_count": 0,
      "outputs": [
        {
          "output_type": "execute_result",
          "data": {
            "text/plain": [
              "array([[16,  0],\n",
              "       [ 6,  1]])"
            ]
          },
          "metadata": {
            "tags": []
          },
          "execution_count": 146
        }
      ]
    },
    {
      "metadata": {
        "id": "HENI1DubUnfL",
        "colab_type": "text"
      },
      "cell_type": "markdown",
      "source": [
        ""
      ]
    },
    {
      "metadata": {
        "id": "D3DAOND83O0a",
        "colab_type": "code",
        "outputId": "1560497e-6ebd-4825-9d41-90fd6f070ca4",
        "colab": {
          "base_uri": "https://localhost:8080/",
          "height": 354
        }
      },
      "cell_type": "code",
      "source": [
        "import matplotlib.pyplot as plt\n",
        "import seaborn as sns\n",
        "import pandas as pd\n",
        "%matplotlib inline\n",
        "class_names=[0,1] # name  of classes\n",
        "fig, ax = plt.subplots()\n",
        "tick_marks = np.arange(len(class_names))\n",
        "plt.xticks(tick_marks, class_names)\n",
        "plt.yticks(tick_marks, class_names)\n",
        "\n",
        "# create heatmap\n",
        "sns.heatmap(pd.DataFrame(cnf_matrix), annot=True, cmap=\"YlGnBu\" ,fmt='g')\n",
        "ax.xaxis.set_label_position(\"top\")\n",
        "plt.tight_layout()\n",
        "plt.title('Confusion matrix', y=1.1)\n",
        "plt.ylabel('Actual label')\n",
        "plt.xlabel('Predicted label')"
      ],
      "execution_count": 0,
      "outputs": [
        {
          "output_type": "execute_result",
          "data": {
            "text/plain": [
              "Text(0.5,257.44,'Predicted label')"
            ]
          },
          "metadata": {
            "tags": []
          },
          "execution_count": 147
        },
        {
          "output_type": "display_data",
          "data": {
            "image/png": "[encoded data removed]",
            "text/plain": [
              "<matplotlib.figure.Figure at 0x7fd71880b0b8>"
            ]
          },
          "metadata": {
            "tags": []
          }
        }
      ]
    }
  ]
}